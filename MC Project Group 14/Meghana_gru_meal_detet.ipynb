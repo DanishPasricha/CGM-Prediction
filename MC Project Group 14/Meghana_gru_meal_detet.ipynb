{
 "cells": [
  {
   "cell_type": "markdown",
   "metadata": {
    "id": "p28rU7l8Pq3v"
   },
   "source": [
    "**Importing Libraries**"
   ]
  },
  {
   "cell_type": "code",
   "execution_count": null,
   "metadata": {
    "id": "Z5tA--eFJjwq"
   },
   "outputs": [],
   "source": [
    "#Imports for the project\n",
    "import os\n",
    "import keras\n",
    "import tensorflow as tf\n",
    "from datetime import datetime, timedelta\n",
    "import math\n",
    "import numpy as np\n",
    "import pandas as pd\n",
    "import pickle\n",
    "import matplotlib.pyplot as plt\n",
    "import matplotlib.pyplot as plt\n",
    "from scipy import stats\n",
    "from collections import Counter\n",
    "from tensorflow.keras import models, layers\n",
    "from tensorflow.keras.callbacks import ModelCheckpoint\n",
    "from tensorflow.python.client import device_lib\n",
    "from sklearn.preprocessing import StandardScaler\n",
    "model = keras.Sequential()"
   ]
  },
  {
   "cell_type": "code",
   "execution_count": 65,
   "metadata": {
    "id": "ENaP9TJ4bJZ_"
   },
   "outputs": [],
   "source": [
    "input_data = pd.read_csv('DanishFinalData.csv')\n",
    "input_data = input_data.iloc[::-1]\n",
    "# getting bolus data from final data file input\n",
    "data_bolus_value=input_data['Value Bolus'].to_numpy()\n",
    "# getting cgm data from final data file input\n",
    "data_cgm_value = input_data['Value CGM'].to_numpy()\n",
    "# total cgm data is the cgm data where bolus data is more than zero\n",
    "total_data_cgm = data_cgm_value[data_bolus_value > 0]"
   ]
  },
  {
   "cell_type": "code",
   "execution_count": 66,
   "metadata": {
    "colab": {
     "base_uri": "https://localhost:8080/",
     "height": 282
    },
    "id": "3rsD4kLhgLDv",
    "outputId": "6d51dbe2-630a-45d0-f0f7-aa42375eef4f"
   },
   "outputs": [
    {
     "data": {
      "text/plain": [
       "Text(0.5, 1.0, 'CGM data Bar Graph')"
      ]
     },
     "execution_count": 66,
     "metadata": {},
     "output_type": "execute_result"
    },
    {
     "data": {
      "image/png": "[encoded data removed]",
      "text/plain": [
       "<Figure size 432x288 with 1 Axes>"
      ]
     },
     "metadata": {
      "needs_background": "light"
     },
     "output_type": "display_data"
    }
   ],
   "source": [
    "plt.bar(list(Counter(total_data_cgm).keys()), list(Counter(total_data_cgm).values()))\n",
    "plt.title('CGM data Bar Graph')"
   ]
  },
  {
   "cell_type": "code",
   "execution_count": 67,
   "metadata": {
    "id": "weTScS4XKNdu"
   },
   "outputs": [],
   "source": [
    "# getting data which is in range after given timeshift\n",
    "def function_timeshift(given_data, time_stamps, shift):\n",
    "    data = pd.DataFrame(given_data)\n",
    "    column = [data.shift(i) for i in range(time_stamps, -1*shift, -1)]\n",
    "    data = pd.concat(column, axis=1)\n",
    "    data.columns = list(range(0, len(data.columns)))\n",
    "    data = data.dropna(how='any', axis=0)\n",
    "    return data.to_numpy()"
   ]
  },
  {
   "cell_type": "code",
   "execution_count": 68,
   "metadata": {
    "id": "s1Tcz0y0LMUH"
   },
   "outputs": [],
   "source": [
    "#getting GRU static layer static features of the data\n",
    "def function_static_features(given_data):\n",
    "    data = pd.DataFrame(given_data)\n",
    "    output = pd.DataFrame()\n",
    "    output[\"std\"] = data.std(axis=1)\n",
    "    output['mean'] = data.mean(axis=1)\n",
    "    output['mag'] = data.diff(axis=1).abs().mean(axis=1)\n",
    "    output['high'] = data.max(axis=1)\n",
    "    output['median']= data.median(axis=1)\n",
    "    output['gfi'] = ((data.diff(axis=1)**2).mean(axis=1))**0.5\n",
    "    output['iqr'] = data.quantile(0.75,axis=1)-data.quantile(0.25,axis=1)\n",
    "    output['low'] = data.min(axis=1)\n",
    "    output['cv'] = (output['std']*100) / output['mean']\n",
    "    output['gcf'] = output['gfi'] / output['mean']\n",
    "    return output.to_numpy()"
   ]
  },
  {
   "cell_type": "code",
   "execution_count": 69,
   "metadata": {
    "id": "T4qCBiJhLsjr"
   },
   "outputs": [],
   "source": [
    "def split_train_test(given_data, split_per=0.8):\n",
    "    input_data = pd.DataFrame(given_data)\n",
    "    train_size = int(len(input_data) * split_per)\n",
    "    train, test = input_data.iloc[:train_size], input_data.iloc[train_size:]\n",
    "    return train.to_numpy(), test.to_numpy()"
   ]
  },
  {
   "cell_type": "code",
   "execution_count": 70,
   "metadata": {},
   "outputs": [],
   "source": [
    "def function_rescale(value, newscale=(-1,1), oldscale=(-100,100)):\n",
    "    (new_min, new_max) = newscale\n",
    "    (old_min, old_max) = oldscale\n",
    "    new_value= (new_max-new_min)/(old_max-old_min)*(value-old_max)+new_max\n",
    "    return new_value"
   ]
  },
  {
   "cell_type": "code",
   "execution_count": 52,
   "metadata": {},
   "outputs": [],
   "source": [
    "def function_difference_moving(given_data, replace_na=False):\n",
    "    input_data = pd.DataFrame(given_data)\n",
    "    diff_X = input_data.diff(axis=1)\n",
    "    if not replace_na:\n",
    "        diff_X = diff_X.dropna(axis=1)\n",
    "    else:\n",
    "        diff_X = diff_X.fillna(0.0)\n",
    "    return diff_X.to_numpy()"
   ]
  },
  {
   "cell_type": "code",
   "execution_count": 71,
   "metadata": {},
   "outputs": [],
   "source": [
    "def r_square(y_true, y_pred):\n",
    "    from keras import backend as K \n",
    "    SS_total = K.sum(K.square(y_true - K.mean(y_true)))\n",
    "    SS_result =  K.sum(K.square(y_true - y_pred)) \n",
    "    return ( 1 - SS_result/(SS_total + K.epsilon()) )"
   ]
  },
  {
   "cell_type": "code",
   "execution_count": 72,
   "metadata": {},
   "outputs": [
    {
     "name": "stdout",
     "output_type": "stream",
     "text": [
      "         0      1      2      3      4      5      6      7      8      9    \\\n",
      "0      314.0  314.0  314.0  314.0  314.0  314.0  314.0  314.0  314.0  314.0   \n",
      "1      314.0  314.0  314.0  314.0  314.0  314.0  314.0  314.0  314.0  314.0   \n",
      "2      314.0  314.0  314.0  314.0  314.0  314.0  314.0  314.0  314.0  314.0   \n",
      "3      314.0  314.0  314.0  314.0  314.0  314.0  314.0  314.0  314.0  314.0   \n",
      "4      314.0  314.0  314.0  314.0  314.0  314.0  314.0  314.0  314.0  314.0   \n",
      "...      ...    ...    ...    ...    ...    ...    ...    ...    ...    ...   \n",
      "34993   90.0  101.0  115.0  129.0   79.0   69.0   49.0   49.0   49.0   49.0   \n",
      "34994  101.0  115.0  129.0   79.0   69.0   49.0   49.0   49.0   49.0   49.0   \n",
      "34995  115.0  129.0   79.0   69.0   49.0   49.0   49.0   49.0   49.0   73.0   \n",
      "34996  129.0   79.0   69.0   49.0   49.0   49.0   49.0   49.0   73.0   83.0   \n",
      "34997   79.0   69.0   49.0   49.0   49.0   49.0   49.0   73.0   83.0   90.0   \n",
      "\n",
      "       ...    94     95     96     97     98     99     100    101    102  \\\n",
      "0      ...   81.0   81.0   92.0   93.0   89.0   99.0  106.0  114.0  115.0   \n",
      "1      ...   81.0   92.0   93.0   89.0   99.0  106.0  114.0  115.0  115.0   \n",
      "2      ...   92.0   93.0   89.0   99.0  106.0  114.0  115.0  115.0  115.0   \n",
      "3      ...   93.0   89.0   99.0  106.0  114.0  115.0  115.0  115.0  124.0   \n",
      "4      ...   89.0   99.0  106.0  114.0  115.0  115.0  115.0  124.0  112.0   \n",
      "...    ...    ...    ...    ...    ...    ...    ...    ...    ...    ...   \n",
      "34993  ...  134.0  131.0  140.0  150.0  140.0  137.0  130.0  128.0  127.0   \n",
      "34994  ...  131.0  140.0  150.0  140.0  137.0  130.0  128.0  127.0  126.0   \n",
      "34995  ...  140.0  150.0  140.0  137.0  130.0  128.0  127.0  126.0  124.0   \n",
      "34996  ...  150.0  140.0  137.0  130.0  128.0  127.0  126.0  124.0  122.0   \n",
      "34997  ...  140.0  137.0  130.0  128.0  127.0  126.0  124.0  122.0  118.0   \n",
      "\n",
      "         103  \n",
      "0      115.0  \n",
      "1      115.0  \n",
      "2      124.0  \n",
      "3      112.0  \n",
      "4      119.0  \n",
      "...      ...  \n",
      "34993  126.0  \n",
      "34994  124.0  \n",
      "34995  122.0  \n",
      "34996  118.0  \n",
      "34997  118.0  \n",
      "\n",
      "[34998 rows x 104 columns]\n"
     ]
    }
   ],
   "source": [
    "shift=4\n",
    "time_stamps = 100\n",
    "rnn_data_value = pd.DataFrame(function_timeshift(data_cgm_value, time_stamps, shift))\n",
    "print(rnn_data_value)"
   ]
  },
  {
   "cell_type": "code",
   "execution_count": 73,
   "metadata": {},
   "outputs": [
    {
     "name": "stdout",
     "output_type": "stream",
     "text": [
      "                0       1         2      3      4          5       6     7  \\\n",
      "0      117.405685  201.19  6.393939  314.0  278.0  18.319554  241.25  43.0   \n",
      "1      117.229284  199.11  6.464646  314.0  278.0  18.333058  241.25  43.0   \n",
      "2      116.955132  197.11  6.545455  314.0  221.0  18.350680  241.25  43.0   \n",
      "3      116.638722  195.12  6.555556  314.0  151.0  18.350956  241.25  43.0   \n",
      "4      116.287058  193.13  6.555556  314.0  136.0  18.350956  241.25  43.0   \n",
      "...           ...     ...       ...    ...    ...        ...     ...   ...   \n",
      "34993   39.151630  130.28  5.383838  194.0  147.0   9.565827   54.75  49.0   \n",
      "34994   38.939705  130.68  5.343434  194.0  147.0   9.527737   54.25  49.0   \n",
      "34995   38.825269  130.95  5.222222  194.0  147.0   9.425412   52.00  49.0   \n",
      "34996   38.794005  131.07  5.090909  194.0  147.0   9.320337   52.00  49.0   \n",
      "34997   38.796782  131.04  4.595960  194.0  147.0   7.850240   52.00  49.0   \n",
      "\n",
      "               8         9  \n",
      "0      58.355626  0.091056  \n",
      "1      58.876643  0.092075  \n",
      "2      59.334956  0.093099  \n",
      "3      59.777943  0.094050  \n",
      "4      60.211805  0.095019  \n",
      "...          ...       ...  \n",
      "34993  30.051911  0.073425  \n",
      "34994  29.797754  0.072909  \n",
      "34995  29.648926  0.071977  \n",
      "34996  29.597929  0.071110  \n",
      "34997  29.606824  0.059907  \n",
      "\n",
      "[34998 rows x 10 columns]\n"
     ]
    }
   ],
   "source": [
    "static_data_value = pd.DataFrame(function_static_features(rnn_data_value.iloc[:,0:100].to_numpy()))\n",
    "print(static_data_value)"
   ]
  },
  {
   "cell_type": "code",
   "execution_count": 74,
   "metadata": {
    "id": "cqCqDRMyLxoJ"
   },
   "outputs": [],
   "source": [
    "train_X, test_X = split_train_test(static_data_value.to_numpy())\n",
    "train_GRU, test_GRU = split_train_test(rnn_data_value.to_numpy())"
   ]
  },
  {
   "cell_type": "code",
   "execution_count": 75,
   "metadata": {
    "id": "XTzhDh7gL4y8"
   },
   "outputs": [],
   "source": [
    "test_GRU = function_difference_moving(test_GRU, True)\n",
    "train_GRU = function_difference_moving(train_GRU, True)"
   ]
  },
  {
   "cell_type": "code",
   "execution_count": 76,
   "metadata": {
    "id": "RsxioZ0CL82O"
   },
   "outputs": [],
   "source": [
    "test_GRU = np.vectorize(function_rescale)(test_GRU)\n",
    "train_GRU = np.vectorize(function_rescale)(train_GRU)"
   ]
  },
  {
   "cell_type": "code",
   "execution_count": 77,
   "metadata": {
    "id": "y8IGV71zL-IQ"
   },
   "outputs": [],
   "source": [
    "X_test_GRU, test_Y = test_GRU[:,0:time_stamps], test_GRU[:,time_stamps:]\n",
    "X_train_GRU, train_Y = train_GRU[:,0:time_stamps], train_GRU[:,time_stamps:]"
   ]
  },
  {
   "cell_type": "code",
   "execution_count": 78,
   "metadata": {
    "id": "e5OW0bU_pnGx"
   },
   "outputs": [],
   "source": [
    "scaler = StandardScaler()\n",
    "scaler.fit(train_X,train_Y)\n",
    "test_X = scaler.transform(test_X)\n",
    "train_X = scaler.transform(train_X)\n",
    "X_test_GRU = np.expand_dims(X_test_GRU, axis=-1)\n",
    "X_train_GRU = np.expand_dims(X_train_GRU, axis=-1)\n",
    "train_X = np.expand_dims(train_X, axis=-1)\n",
    "test_X = np.expand_dims(test_X, axis=-1)"
   ]
  },
  {
   "cell_type": "code",
   "execution_count": 79,
   "metadata": {
    "colab": {
     "base_uri": "https://localhost:8080/"
    },
    "id": "Gsh1vCgoM4Wl",
    "outputId": "ffa43308-bfbd-43ae-fcf3-f48fd9cdca20"
   },
   "outputs": [
    {
     "name": "stdout",
     "output_type": "stream",
     "text": [
      "Model: \"model_1\"\n",
      "__________________________________________________________________________________________________\n",
      "Layer (type)                    Output Shape         Param #     Connected to                     \n",
      "==================================================================================================\n",
      "input_3 (InputLayer)            [(None, 100, 1)]     0                                            \n",
      "__________________________________________________________________________________________________\n",
      "gru_2 (GRU)                     [(None, 100, 100), ( 30900       input_3[0][0]                    \n",
      "__________________________________________________________________________________________________\n",
      "input_4 (InputLayer)            [(None, 10, 1)]      0                                            \n",
      "__________________________________________________________________________________________________\n",
      "dropout_4 (Dropout)             (None, 100, 100)     0           gru_2[0][0]                      \n",
      "__________________________________________________________________________________________________\n",
      "dense_4 (Dense)                 (None, 10, 2)        4           input_4[0][0]                    \n",
      "__________________________________________________________________________________________________\n",
      "gru_3 (GRU)                     [(None, 100, 100), ( 60600       dropout_4[0][0]                  \n",
      "__________________________________________________________________________________________________\n",
      "flatten_1 (Flatten)             (None, 20)           0           dense_4[0][0]                    \n",
      "__________________________________________________________________________________________________\n",
      "concatenate_1 (Concatenate)     (None, 220)          0           gru_2[0][1]                      \n",
      "                                                                 gru_3[0][1]                      \n",
      "                                                                 flatten_1[0][0]                  \n",
      "__________________________________________________________________________________________________\n",
      "dropout_5 (Dropout)             (None, 220)          0           concatenate_1[0][0]              \n",
      "__________________________________________________________________________________________________\n",
      "dense_5 (Dense)                 (None, 64)           14144       dropout_5[0][0]                  \n",
      "__________________________________________________________________________________________________\n",
      "dropout_6 (Dropout)             (None, 64)           0           dense_5[0][0]                    \n",
      "__________________________________________________________________________________________________\n",
      "dense_6 (Dense)                 (None, 16)           1040        dropout_6[0][0]                  \n",
      "__________________________________________________________________________________________________\n",
      "dropout_7 (Dropout)             (None, 16)           0           dense_6[0][0]                    \n",
      "__________________________________________________________________________________________________\n",
      "dense_7 (Dense)                 (None, 4)            68          dropout_7[0][0]                  \n",
      "==================================================================================================\n",
      "Total params: 106,756\n",
      "Trainable params: 106,756\n",
      "Non-trainable params: 0\n",
      "__________________________________________________________________________________________________\n"
     ]
    }
   ],
   "source": [
    "gru_input = layers.Input(shape=(X_train_GRU.shape[1], X_train_GRU.shape[2]))\n",
    "static_input = layers.Input(shape=(train_X.shape[1], train_X.shape[2]))\n",
    "\n",
    "gru_stack_1, gru_stack_1_c = layers.GRU(100, return_sequences=True, return_state=True)(gru_input)\n",
    "drop_gru_1 = layers.Dropout(0.05)(gru_stack_1)\n",
    "\n",
    "gru_stack_2, gru_stack_2_c = layers.GRU(100, return_sequences=True, return_state=True)(drop_gru_1)\n",
    "\n",
    "static_dense = layers.Dense(2)(static_input)\n",
    "static_flatten = layers.Flatten()(static_dense)\n",
    "\n",
    "concatenate_data = layers.Concatenate()([gru_stack_1_c, gru_stack_2_c, static_flatten])\n",
    "\n",
    "\n",
    "drop_2 = layers.Dropout(0.1)(concatenate_data)\n",
    "dense_1 = layers.Dense(64)(drop_2)\n",
    "drop_3 = layers.Dropout(0.05)(dense_1)  \n",
    "dense_2 = layers.Dense(16)(drop_3)\n",
    "drop_4 = layers.Dropout(0.02)(dense_2)\n",
    "\n",
    "output_data = layers.Dense(4)(drop_4)\n",
    "\n",
    "\n",
    "model = models.Model(inputs=[gru_input, static_input], outputs=output_data)\n",
    "model.summary()\n",
    "model.compile(loss='mse', optimizer='adam', metrics=[r_square,'mae'])"
   ]
  },
  {
   "cell_type": "markdown",
   "metadata": {
    "id": "eLX9leLqzURQ"
   },
   "source": [
    "**Training the model**"
   ]
  },
  {
   "cell_type": "code",
   "execution_count": 80,
   "metadata": {
    "colab": {
     "base_uri": "https://localhost:8080/"
    },
    "id": "HuDg3uOlM5uK",
    "outputId": "431628f2-9dbd-4294-f2a4-c03d7a6fa882",
    "scrolled": true
   },
   "outputs": [
    {
     "name": "stdout",
     "output_type": "stream",
     "text": [
      "WARNING:tensorflow:`period` argument is deprecated. Please use `save_freq` to specify the frequency in number of batches seen.\n",
      "Epoch 1/12\n",
      "467/467 [==============================] - 159s 319ms/step - loss: 0.0235 - r_square: -0.2133 - mae: 0.0804 - val_loss: 0.0190 - val_r_square: -0.0064 - val_mae: 0.0642\n",
      "\n",
      "Epoch 00001: saving model to model_gru_static-001.h5\n",
      "Epoch 2/12\n",
      "467/467 [==============================] - 141s 302ms/step - loss: 0.0209 - r_square: 5.7528e-04 - mae: 0.0666 - val_loss: 0.0189 - val_r_square: 0.0043 - val_mae: 0.0635\n",
      "\n",
      "Epoch 00002: saving model to model_gru_static-002.h5\n",
      "Epoch 3/12\n",
      "467/467 [==============================] - 149s 318ms/step - loss: 0.0191 - r_square: 0.0196 - mae: 0.0640 - val_loss: 0.0186 - val_r_square: 0.0166 - val_mae: 0.0641\n",
      "\n",
      "Epoch 00003: saving model to model_gru_static-003.h5\n",
      "Epoch 4/12\n",
      "467/467 [==============================] - 160s 343ms/step - loss: 0.0193 - r_square: 0.0239 - mae: 0.0644 - val_loss: 0.0184 - val_r_square: 0.0345 - val_mae: 0.0634\n",
      "\n",
      "Epoch 00004: saving model to model_gru_static-004.h5\n",
      "Epoch 5/12\n",
      "467/467 [==============================] - 169s 363ms/step - loss: 0.0188 - r_square: 0.0309 - mae: 0.0639 - val_loss: 0.0186 - val_r_square: 0.0053 - val_mae: 0.0654\n",
      "\n",
      "Epoch 00005: saving model to model_gru_static-005.h5\n",
      "Epoch 6/12\n",
      "467/467 [==============================] - 138s 296ms/step - loss: 0.0198 - r_square: 0.0337 - mae: 0.0648 - val_loss: 0.0183 - val_r_square: 0.0206 - val_mae: 0.0662\n",
      "\n",
      "Epoch 00006: saving model to model_gru_static-006.h5\n",
      "Epoch 7/12\n",
      "467/467 [==============================] - 142s 305ms/step - loss: 0.0194 - r_square: 0.0433 - mae: 0.0652 - val_loss: 0.0185 - val_r_square: -0.0201 - val_mae: 0.0681\n",
      "\n",
      "Epoch 00007: saving model to model_gru_static-007.h5\n",
      "Epoch 8/12\n",
      "467/467 [==============================] - 137s 293ms/step - loss: 0.0200 - r_square: 0.0410 - mae: 0.0655 - val_loss: 0.0182 - val_r_square: 0.0338 - val_mae: 0.0653\n",
      "\n",
      "Epoch 00008: saving model to model_gru_static-008.h5\n",
      "Epoch 9/12\n",
      "467/467 [==============================] - 163s 349ms/step - loss: 0.0195 - r_square: 0.0411 - mae: 0.0651 - val_loss: 0.0184 - val_r_square: 0.0424 - val_mae: 0.0631\n",
      "\n",
      "Epoch 00009: saving model to model_gru_static-009.h5\n",
      "Epoch 10/12\n",
      "467/467 [==============================] - 139s 298ms/step - loss: 0.0190 - r_square: 0.0438 - mae: 0.0643 - val_loss: 0.0183 - val_r_square: 0.0097 - val_mae: 0.0673\n",
      "\n",
      "Epoch 00010: saving model to model_gru_static-010.h5\n",
      "Epoch 11/12\n",
      "467/467 [==============================] - 148s 317ms/step - loss: 0.0193 - r_square: 0.0481 - mae: 0.0651 - val_loss: 0.0182 - val_r_square: 0.0353 - val_mae: 0.0650\n",
      "\n",
      "Epoch 00011: saving model to model_gru_static-011.h5\n",
      "Epoch 12/12\n",
      "467/467 [==============================] - 144s 308ms/step - loss: 0.0193 - r_square: 0.0508 - mae: 0.0648 - val_loss: 0.0182 - val_r_square: 0.0245 - val_mae: 0.0668\n",
      "\n",
      "Epoch 00012: saving model to model_gru_static-012.h5\n"
     ]
    }
   ],
   "source": [
    "filepath = \"model_gru_static-{epoch:03d}.h5\"\n",
    "checkpoint = ModelCheckpoint(filepath, monitor='r_square', verbose=1,\n",
    "    save_best_only=False, save_weights_only=True, mode='auto', period=1)\n",
    "\n",
    "history = model.fit(\n",
    "    [X_train_GRU, train_X], train_Y,\n",
    "    epochs=12,\n",
    "    batch_size=60,\n",
    "    verbose=1,\n",
    "    validation_data=([X_test_GRU, test_X], test_Y),\n",
    "    shuffle=True,\n",
    "    callbacks=[checkpoint]\n",
    ")"
   ]
  },
  {
   "cell_type": "code",
   "execution_count": 97,
   "metadata": {
    "colab": {
     "base_uri": "https://localhost:8080/",
     "height": 188
    },
    "id": "oa_o988zNLSf",
    "outputId": "9ae93ff9-26c3-4947-fbd1-f934c02cd1cc"
   },
   "outputs": [
    {
     "data": {
      "text/plain": [
       "Text(0.5, 0, 'r val square')"
      ]
     },
     "execution_count": 97,
     "metadata": {},
     "output_type": "execute_result"
    },
    {
     "data": {
      "image/png": "[encoded data removed]",
      "text/plain": [
       "<Figure size 432x288 with 1 Axes>"
      ]
     },
     "metadata": {
      "needs_background": "light"
     },
     "output_type": "display_data"
    },
    {
     "data": {
      "image/png": "[encoded data removed]",
      "text/plain": [
       "<Figure size 432x288 with 1 Axes>"
      ]
     },
     "metadata": {
      "needs_background": "light"
     },
     "output_type": "display_data"
    },
    {
     "data": {
      "image/png": "[encoded data removed]",
      "text/plain": [
       "<Figure size 432x288 with 1 Axes>"
      ]
     },
     "metadata": {
      "needs_background": "light"
     },
     "output_type": "display_data"
    },
    {
     "data": {
      "image/png": "[encoded data removed]",
      "text/plain": [
       "<Figure size 432x288 with 1 Axes>"
      ]
     },
     "metadata": {
      "needs_background": "light"
     },
     "output_type": "display_data"
    },
    {
     "data": {
      "image/png": "[encoded data removed]",
      "text/plain": [
       "<Figure size 432x288 with 1 Axes>"
      ]
     },
     "metadata": {
      "needs_background": "light"
     },
     "output_type": "display_data"
    },
    {
     "data": {
      "image/png": "[encoded data removed]",
      "text/plain": [
       "<Figure size 432x288 with 1 Axes>"
      ]
     },
     "metadata": {
      "needs_background": "light"
     },
     "output_type": "display_data"
    }
   ],
   "source": [
    "#Plotting results\n",
    "fig =plt.figure()\n",
    "plt.plot(history.history['loss'],color='blue')\n",
    "fig.suptitle('Mean Square Error', fontsize=10)\n",
    "plt.xlabel('Loss', fontsize=8)\n",
    "fig =plt.figure()\n",
    "plt.plot(history.history['val_loss'],color='red')\n",
    "fig.suptitle('Mean Square Error', fontsize=10)\n",
    "plt.xlabel('Val Loss', fontsize=8)\n",
    "\n",
    "fig =plt.figure()\n",
    "plt.plot(history.history['mae'],color='blue')\n",
    "fig.suptitle('Mean Absolute Error', fontsize=10)\n",
    "plt.xlabel('MAE', fontsize=8)\n",
    "fig =plt.figure()\n",
    "plt.plot(history.history['val_mae'],color='red')\n",
    "fig.suptitle('Mean Absolute Error', fontsize=10)\n",
    "plt.xlabel('Val MAE', fontsize=8)\n",
    "\n",
    "\n",
    "fig =plt.figure()\n",
    "plt.plot(history.history['r_square'],color='blue')\n",
    "fig.suptitle('R Square', fontsize=10)\n",
    "plt.xlabel('r square', fontsize=8)\n",
    "fig =plt.figure()\n",
    "plt.plot(history.history['val_r_square'],color='red')\n",
    "fig.suptitle('R Square', fontsize=10)\n",
    "plt.xlabel('r val square', fontsize=8)\n"
   ]
  },
  {
   "cell_type": "markdown",
   "metadata": {
    "id": "KAN9slL3zfCQ"
   },
   "source": [
    "**Predicting the values of the test data**"
   ]
  },
  {
   "cell_type": "code",
   "execution_count": 117,
   "metadata": {
    "colab": {
     "base_uri": "https://localhost:8080/"
    },
    "id": "KNUcwFV7Pk6p",
    "outputId": "0963f122-2c82-46aa-ca60-880e40b210e1"
   },
   "outputs": [],
   "source": [
    "#Reshaping cgm data to (1, 399)\n",
    "cgm_data_testing = data_cgm_value[-400:-1]\n",
    "cgm_data_testing = cgm_data_testing.reshape(1, 399)\n",
    "\n",
    "time_stamps = 100\n",
    "ahead_pred = 100\n",
    "prediction_Y = []"
   ]
  },
  {
   "cell_type": "code",
   "execution_count": 118,
   "metadata": {
    "colab": {
     "base_uri": "https://localhost:8080/"
    },
    "id": "J0XEWgsKPzA8",
    "outputId": "a0850365-f2d3-4843-9e36-f2b1ea2cccc9"
   },
   "outputs": [
    {
     "name": "stdout",
     "output_type": "stream",
     "text": [
      "107.0\n",
      "108.0\n",
      "109.0\n",
      "110.0\n",
      "111.0\n",
      "112.0\n",
      "113.0\n",
      "114.0\n",
      "115.0\n",
      "116.0\n",
      "117.0\n",
      "118.0\n",
      "119.0\n",
      "120.0\n",
      "121.0\n",
      "122.0\n",
      "123.0\n",
      "124.0\n",
      "125.0\n",
      "126.0\n",
      "127.0\n",
      "128.0\n",
      "129.0\n",
      "130.0\n",
      "131.0\n",
      "132.0\n",
      "133.0\n",
      "134.0\n",
      "135.0\n",
      "136.0\n",
      "137.0\n",
      "138.0\n",
      "139.0\n",
      "140.0\n",
      "141.0\n",
      "142.0\n",
      "143.0\n",
      "144.0\n",
      "145.0\n",
      "145.0\n",
      "145.0\n",
      "145.0\n",
      "145.0\n",
      "145.0\n",
      "145.0\n",
      "145.0\n",
      "145.0\n",
      "145.0\n",
      "145.0\n",
      "145.0\n",
      "145.0\n",
      "145.0\n",
      "145.0\n",
      "145.0\n",
      "146.0\n",
      "147.0\n",
      "148.0\n",
      "149.0\n",
      "150.0\n",
      "151.0\n",
      "152.0\n",
      "153.0\n",
      "154.0\n",
      "154.0\n",
      "154.0\n",
      "154.0\n",
      "154.0\n",
      "154.0\n",
      "154.0\n",
      "154.0\n",
      "154.0\n",
      "154.0\n",
      "153.0\n",
      "152.0\n",
      "151.0\n",
      "150.0\n",
      "149.0\n",
      "148.0\n",
      "147.0\n",
      "146.0\n",
      "145.0\n",
      "144.0\n",
      "143.0\n",
      "142.0\n",
      "141.0\n",
      "140.0\n",
      "139.0\n",
      "138.0\n",
      "137.0\n",
      "136.0\n",
      "135.0\n",
      "134.0\n",
      "133.0\n",
      "132.0\n",
      "131.0\n",
      "130.0\n",
      "129.0\n",
      "128.0\n",
      "127.0\n",
      "126.0\n"
     ]
    }
   ],
   "source": [
    "\n",
    "long_short_tm_org = cgm_data_testing[:,0:time_stamps]\n",
    "ground_Y = cgm_data_testing[:,time_stamps:time_stamps+ahead_pred]\n",
    "\n",
    "for i in range(ahead_pred):\n",
    "    long_short_tm_data = function_difference_moving(long_short_tm_org, replace_na=True)\n",
    "    long_short_tm_data = np.vectorize(function_rescale)(long_short_tm_data)\n",
    "    \n",
    "    input_static = get_static_features(long_short_tm_org)\n",
    "    input_static = scaler.transform(input_static)\n",
    "    \n",
    "    long_short_tm_data = np.expand_dims(long_short_tm_data, axis=-1)\n",
    "    input_static = np.expand_dims(input_static, axis=-1)\n",
    "\n",
    "    prediction = model.predict([long_short_tm_data, input_static])\n",
    "    prediction = prediction[0][0]\n",
    "    prediction = function_rescale(prediction, newscale=(-100,100), oldscale=(-1,1))\n",
    "    prediction = long_short_tm_org[:,-1]+prediction    \n",
    "    if prediction > int(prediction)+0.5:\n",
    "         prediction = int(prediction)+1.0\n",
    "    else:\n",
    "         prediction = int(prediction)+0.0\n",
    "    print(prediction)\n",
    "    prediction_Y.append(prediction)\n",
    "    prediction = np.reshape(prediction, (1,1))\n",
    "    long_short_tm_org = np.concatenate((long_short_tm_org[:,1:], prediction), axis=-1)\n",
    "\n",
    "    "
   ]
  },
  {
   "cell_type": "code",
   "execution_count": 119,
   "metadata": {
    "colab": {
     "base_uri": "https://localhost:8080/"
    },
    "id": "k9HEkvdkRUn9",
    "outputId": "420adea9-0a43-491b-8f8e-93baf47d781f"
   },
   "outputs": [
    {
     "name": "stdout",
     "output_type": "stream",
     "text": [
      "prediction_Y:  [[107. 108. 109. 110. 111. 112. 113. 114. 115. 116. 117. 118. 119. 120.\n",
      "  121. 122. 123. 124. 125. 126. 127. 128. 129. 130. 131. 132. 133. 134.\n",
      "  135. 136. 137. 138. 139. 140. 141. 142. 143. 144. 145. 145. 145. 145.\n",
      "  145. 145. 145. 145. 145. 145. 145. 145. 145. 145. 145. 145. 146. 147.\n",
      "  148. 149. 150. 151. 152. 153. 154. 154. 154. 154. 154. 154. 154. 154.\n",
      "  154. 154. 153. 152. 151. 150. 149. 148. 147. 146. 145. 144. 143. 142.\n",
      "  141. 140. 139. 138. 137. 136. 135. 134. 133. 132. 131. 130. 129. 128.\n",
      "  127. 126.]]\n",
      "ground_Y:  [[108. 108. 110. 108. 108. 108. 103.  93.  95.  97.  97.  97. 100. 105.\n",
      "  106. 106.  84.  70.  62. 131. 131. 131. 131. 131. 140. 144. 144. 150.\n",
      "  141. 126. 114. 115.  86.  92.  75.  75.  70.  72.  72.  72.  69.  69.\n",
      "   69.  63.  63.  67.  67.  70.  70.  69.  65.  62.  63.  63.  63.  63.\n",
      "   63.  60.  60.  57. 104. 110. 110. 110. 110. 110. 110. 110. 126. 133.\n",
      "  135. 141. 144. 137. 137. 137. 148. 148. 147. 135. 136. 136. 142. 168.\n",
      "  168. 174. 207. 209. 206. 185. 191. 197. 202. 202. 200. 209. 219. 221.\n",
      "  221. 216.]]\n",
      "\n",
      "\n",
      "Accuracy: 61.0\n"
     ]
    }
   ],
   "source": [
    "prediction_Y = np.array(prediction_Y)\n",
    "prediction_Y = prediction_Y.reshape((1, 100))\n",
    "print(\"prediction_Y: \",prediction_Y)\n",
    "prediction_Y.shape\n",
    "print(\"ground_Y: \",ground_Y)\n",
    "ground_Y.shape\n",
    "#Threshold is 60\n",
    "thresh =60\n",
    "c=0\n",
    "for i in range(len(prediction_Y[0])):\n",
    "    if abs(prediction_Y[0][i]-ground_Y[0][i])<thresh:\n",
    "        c+=1\n",
    "\n",
    "#Accuracy of the prediction        \n",
    "accuracy  = c/len(prediction_Y[0])*100\n",
    "print('\\n')\n",
    "print(\"Accuracy:\",accuracy)"
   ]
  }
 ],
 "metadata": {
  "accelerator": "GPU",
  "colab": {
   "name": "RNN_GRU_Detection.ipynb",
   "provenance": []
  },
  "kernelspec": {
   "display_name": "Python 3",
   "language": "python",
   "name": "python3"
  },
  "language_info": {
   "codemirror_mode": {
    "name": "ipython",
    "version": 3
   },
   "file_extension": ".py",
   "mimetype": "text/x-python",
   "name": "python",
   "nbconvert_exporter": "python",
   "pygments_lexer": "ipython3",
   "version": "3.8.5"
  }
 },
 "nbformat": 4,
 "nbformat_minor": 1
}
