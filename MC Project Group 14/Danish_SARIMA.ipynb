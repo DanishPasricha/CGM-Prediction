{
 "cells": [
  {
   "cell_type": "code",
   "execution_count": 61,
   "id": "8bdcbe2b",
   "metadata": {
    "scrolled": true
   },
   "outputs": [
    {
     "name": "stdout",
     "output_type": "stream",
     "text": [
      "                          DateCGM  Value CGM                   DateBolus  \\\n",
      "35100  2017-07-24 18:59:42.000004      314.0  2017-07-25 12:08:54.000000   \n",
      "35099  2017-07-24 18:59:44.000003      314.0  2017-07-25 12:08:54.000000   \n",
      "35098  2017-07-24 19:00:01.000001      314.0  2017-07-25 12:08:54.000000   \n",
      "35097  2017-07-24 19:02:03.000003      314.0  2017-07-25 12:08:54.000000   \n",
      "35096  2017-07-24 19:30:37.000000      314.0  2017-07-25 12:08:54.000000   \n",
      "\n",
      "       Value Bolus  \n",
      "35100          0.0  \n",
      "35099          0.0  \n",
      "35098          0.0  \n",
      "35097          0.0  \n",
      "35096          0.0  \n"
     ]
    }
   ],
   "source": [
    "from math import sqrt\n",
    "import statistics\n",
    "import statsmodels\n",
    "import statsmodels.api as sm\n",
    "from statsmodels.tsa.arima_model import ARIMA\n",
    "from statsmodels.tsa.stattools import adfuller\n",
    "from statsmodels.tsa.seasonal import seasonal_decompose\n",
    "from datetime import datetime\n",
    "import math\n",
    "import time\n",
    "import datetime as dt\n",
    "import matplotlib.pyplot as plt\n",
    "import numpy as np\n",
    "import pandas as pd\n",
    "from pandas.plotting import autocorrelation_plot\n",
    "from sklearn.metrics import mean_squared_error\n",
    "from sklearn.metrics import mean_absolute_error\n",
    "import warnings\n",
    "warnings.filterwarnings('ignore')\n",
    "\n",
    "\n",
    "\n",
    "D_data = pd.read_csv(\"DanishFinalData.csv\")\n",
    "D_data = D_data.iloc[::-1]\n",
    "print(D_data.head())\n",
    "D_data.index = pd.to_datetime(D_data[\"DateCGM\"])\n"
   ]
  },
  {
   "cell_type": "code",
   "execution_count": 62,
   "id": "a4ac411f",
   "metadata": {
    "scrolled": true
   },
   "outputs": [
    {
     "name": "stdout",
     "output_type": "stream",
     "text": [
      "Time point = 0 - Predicted value = 141.352, Expected value = 314.000 \n",
      "Time point = 300 - Predicted value = 122.266, Expected value = 101.000 \n",
      "Time point = 600 - Predicted value = 114.196, Expected value = 69.000 \n",
      "Time point = 900 - Predicted value = 156.438, Expected value = 227.000 \n",
      "Time point = 1200 - Predicted value = 220.175, Expected value = 181.000 \n",
      "Time point = 1500 - Predicted value = 145.066, Expected value = 195.000 \n",
      "Time point = 1800 - Predicted value = 89.763, Expected value = 325.000 \n",
      "Time point = 2100 - Predicted value = 165.598, Expected value = 190.000 \n",
      "Time point = 2400 - Predicted value = 195.702, Expected value = 103.000 \n",
      "Time point = 2700 - Predicted value = 207.278, Expected value = 199.000 \n",
      "Time point = 3000 - Predicted value = 83.925, Expected value = 119.000 \n",
      "Time point = 3300 - Predicted value = 150.668, Expected value = 192.000 \n",
      "Time point = 3600 - Predicted value = 131.401, Expected value = 159.000 \n",
      "Time point = 3900 - Predicted value = 81.026, Expected value = 123.000 \n",
      "Time point = 4200 - Predicted value = 173.262, Expected value = 190.000 \n",
      "Time point = 4500 - Predicted value = 226.160, Expected value = 144.000 \n",
      "Time point = 4800 - Predicted value = 131.016, Expected value = 216.000 \n",
      "Time point = 5100 - Predicted value = 211.979, Expected value = 137.000 \n",
      "Time point = 5400 - Predicted value = 111.126, Expected value = 54.000 \n",
      "Time point = 5700 - Predicted value = 236.972, Expected value = 81.000 \n",
      "Time point = 6000 - Predicted value = 273.070, Expected value = 137.000 \n",
      "Time point = 6300 - Predicted value = 178.824, Expected value = 277.000 \n",
      "Time point = 6600 - Predicted value = 76.354, Expected value = 145.000 \n",
      "Time point = 6900 - Predicted value = 215.077, Expected value = 154.000 \n",
      "\n",
      "Test Mean Absolute Error: 6.029\n",
      "\n",
      "Test Root Mean Squared Error: 13.536\n",
      "\n",
      "Test Mean Squared Error: 183.227\n"
     ]
    }
   ],
   "source": [
    "dp_prediction_test_result = sm.tsa.SARIMAX(D_data[\"Value CGM\"], order=(1,1,1), seasonal_order=(1,0,1,12)).filter(sm.tsa.SARIMAX(D_data[\"Value CGM\"], order=(1,1,1), seasonal_order=(1,0,1,12)).fit().params).get_prediction(start=28001, end=35100, dynamic=False, full_results=True).predicted_mean\n",
    "\n",
    "ans = []\n",
    "for i in range(0,7100):\n",
    "    #print(dp_predict_test.get(i))\n",
    "    ans.append(dp_prediction_test_result.get(i))\n",
    "    if(i % 300 == 0) and type(i)!=None:\n",
    "        print('Time point = ' + str(i) + ' - Predicted value = %.3f, Expected value = %.3f ' % (dp_prediction_test_result.get(i), D_data[\"Value CGM\"][i]))\n",
    "print('\\nTest Mean Absolute Error: %.3f' % (mean_absolute_error(D_data[28001:35101][\"Value CGM\"], ans)))\n",
    "print('\\nTest Root Mean Squared Error: %.3f' % (sqrt(mean_squared_error(D_data[28001:35101][\"Value CGM\"], ans))))\n",
    "print('\\nTest Mean Squared Error: %.3f' % (mean_squared_error(D_data[28001:35101][\"Value CGM\"], ans)))"
   ]
  },
  {
   "cell_type": "code",
   "execution_count": 47,
   "id": "4b1fc27c",
   "metadata": {},
   "outputs": [
    {
     "data": {
      "text/plain": [
       "<AxesSubplot:xlabel='DateCGM'>"
      ]
     },
     "execution_count": 47,
     "metadata": {},
     "output_type": "execute_result"
    },
    {
     "data": {
      "image/png": "[encoded data removed]",
      "text/plain": [
       "<Figure size 432x288 with 1 Axes>"
      ]
     },
     "metadata": {
      "needs_background": "light"
     },
     "output_type": "display_data"
    }
   ],
   "source": [
    "ans = sm.tsa.SARIMAX(D_data[\"Value CGM\"], order=(1,1,1), seasonal_order=(1,0,1,12)).filter(sm.tsa.SARIMAX(D_data[\"Value CGM\"], order=(1,1,1), seasonal_order=(1,0,1,12)).fit().params).predict(28000,28099);\n",
    "Tv = D_data[\"Value CGM\"][28001:35101].head(99);\n",
    "danish_res = pd.DataFrame();\n",
    "danish_res['Predicted Values'] = ans\n",
    "danish_res['Actual Values'] = Tv\n",
    "danish_res.plot()"
   ]
  },
  {
   "cell_type": "code",
   "execution_count": 60,
   "id": "924e1fc7",
   "metadata": {},
   "outputs": [
    {
     "name": "stdout",
     "output_type": "stream",
     "text": [
      "Accuracy: 82.84023668639054\n"
     ]
    }
   ],
   "source": [
    "\n",
    "\n",
    "ans1 = sm.tsa.SARIMAX(D_data[\"Value CGM\"], order=(1,1,1), seasonal_order=(1,0,1,12)).filter(sm.tsa.SARIMAX(D_data[\"Value CGM\"], order=(1,1,1), seasonal_order=(1,0,1,12)).fit().params).predict(28000,35100);\n",
    "\n",
    "\n",
    "count,count2 = 0 , 0\n",
    "for i in range(28001, 28001+len(D_data[28001:35100])):\n",
    "    if D_data['Value Bolus'][i] > 1.0: count += 1\n",
    "threshold_value = np.mean(D_data[28001:35101])*0.4\n",
    "for i in range(7100):\n",
    "    if (abs(ans1[i]-(D_data[\"Value CGM\"][28001:35101])[i])) > threshold_value[\"Value CGM\"]: count2 += 1  \n",
    "    if math.isnan(ans1[i]) or math.isnan(ans2[i]): \n",
    "        continue\n",
    "\n",
    "accuracy_answer = (count2/count)*100\n",
    "\n",
    "print(\"Accuracy:\", accuracy_answer)"
   ]
  },
  {
   "cell_type": "code",
   "execution_count": null,
   "id": "45d13ff1",
   "metadata": {},
   "outputs": [],
   "source": []
  }
 ],
 "metadata": {
  "kernelspec": {
   "display_name": "Python 3.10.5 64-bit",
   "language": "python",
   "name": "python3"
  },
  "language_info": {
   "codemirror_mode": {
    "name": "ipython",
    "version": 3
   },
   "file_extension": ".py",
   "mimetype": "text/x-python",
   "name": "python",
   "nbconvert_exporter": "python",
   "pygments_lexer": "ipython3",
   "version": "3.10.5"
  },
  "vscode": {
   "interpreter": {
    "hash": "26de051ba29f2982a8de78e945f0abaf191376122a1563185a90213a26c5da77"
   }
  }
 },
 "nbformat": 4,
 "nbformat_minor": 5
}
